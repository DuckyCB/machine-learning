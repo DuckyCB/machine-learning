{
 "cells": [
  {
   "cell_type": "markdown",
   "source": [
    "# 1 - Analisis exploratorio de datos\n",
    "\n",
    "Efectúe un profundo EDA del dataset entregado. En caso de que existan dudas de la\n",
    "semántica de alguno de los features del dataset, se recomienda fuertemente investigar\n",
    "sobre el mismo y documentar el resultado.\n",
    "\n"
   ],
   "metadata": {
    "collapsed": false,
    "pycharm": {
     "name": "#%% md\n"
    }
   }
  },
  {
   "cell_type": "code",
   "execution_count": 1,
   "metadata": {
    "collapsed": true
   },
   "outputs": [
    {
     "ename": "IndexError",
     "evalue": "list index out of range",
     "output_type": "error",
     "traceback": [
      "\u001B[1;31m---------------------------------------------------------------------------\u001B[0m",
      "\u001B[1;31mIndexError\u001B[0m                                Traceback (most recent call last)",
      "\u001B[1;32m~\\AppData\\Local\\Temp/ipykernel_5040/3141844849.py\u001B[0m in \u001B[0;36m<module>\u001B[1;34m\u001B[0m\n\u001B[0;32m     38\u001B[0m         \u001B[1;32mif\u001B[0m \u001B[1;34m\".csv\"\u001B[0m \u001B[1;32min\u001B[0m \u001B[0mfilename\u001B[0m\u001B[1;33m:\u001B[0m\u001B[1;33m\u001B[0m\u001B[1;33m\u001B[0m\u001B[0m\n\u001B[0;32m     39\u001B[0m             \u001B[0mdf\u001B[0m\u001B[1;33m.\u001B[0m\u001B[0mappend\u001B[0m\u001B[1;33m(\u001B[0m\u001B[0mpd\u001B[0m\u001B[1;33m.\u001B[0m\u001B[0mread_csv\u001B[0m\u001B[1;33m(\u001B[0m\u001B[1;34mf'{dirname}/{filename}'\u001B[0m\u001B[1;33m)\u001B[0m\u001B[1;33m)\u001B[0m\u001B[1;33m\u001B[0m\u001B[1;33m\u001B[0m\u001B[0m\n\u001B[1;32m---> 40\u001B[1;33m \u001B[0mfeatures_df\u001B[0m \u001B[1;33m=\u001B[0m \u001B[0mdf\u001B[0m\u001B[1;33m[\u001B[0m\u001B[1;36m1\u001B[0m\u001B[1;33m]\u001B[0m\u001B[1;33m\u001B[0m\u001B[1;33m\u001B[0m\u001B[0m\n\u001B[0m\u001B[0;32m     41\u001B[0m \u001B[0mtemp_df\u001B[0m \u001B[1;33m=\u001B[0m \u001B[0mdf\u001B[0m\u001B[1;33m[\u001B[0m\u001B[1;36m0\u001B[0m\u001B[1;33m]\u001B[0m\u001B[1;33m\u001B[0m\u001B[1;33m\u001B[0m\u001B[0m\n\u001B[0;32m     42\u001B[0m \u001B[1;33m\u001B[0m\u001B[0m\n",
      "\u001B[1;31mIndexError\u001B[0m: list index out of range"
     ]
    }
   ],
   "source": [
    "# age,anaemia,creatinine_phosphokinase,diabetes,ejection_fraction,high_blood_pressure,platelets,\n",
    "# serum_creatinine,serum_sodium,sex,smoking,time,DEATH_EVENT\n",
    "\n",
    "import os\n",
    "\n",
    "import numpy as np\n",
    "import seaborn as sns\n",
    "import pandas as pd\n",
    "import matplotlib.pyplot as plt\n",
    "\n",
    "\n",
    "def displaycorr(df0):\n",
    "    corr = df0.corr()\n",
    "    # Generate a mask for the upper triangle\n",
    "    mask = np.ones_like(corr, dtype=bool)\n",
    "    for i_m in range(len(mask[0])):\n",
    "        for j_m in range(len(mask[1])):\n",
    "            if j_m <= i_m:\n",
    "                mask[i_m][j_m] = not mask[i_m][j_m]\n",
    "        print(i_m)\n",
    "\n",
    "    # Set up the matplotlib figure\n",
    "    f, ax = plt.subplots(figsize=(10, 10))\n",
    "\n",
    "    # Generate a custom diverging colormap\n",
    "    color = \"Spectral\"\n",
    "    cmap = sns.color_palette(color, as_cmap=True)\n",
    "\n",
    "    # Draw the heatmap with the mask and correct aspect ratio\n",
    "    sns.heatmap(corr, mask=mask, cmap=cmap, vmax=1, center=0, annot=True,\n",
    "                square=True, linewidths=.5, cbar_kws={\"shrink\": .7})\n",
    "\n",
    "\n",
    "display_info = False\n",
    "df = []\n",
    "for dirname, _, filenames in os.walk('.'):\n",
    "    for filename in filenames:\n",
    "        if \".csv\" in filename:\n",
    "            df.append(pd.read_csv(f'{dirname}/{filename}'))\n",
    "features_df = df[1]\n",
    "temp_df = df[0]\n",
    "\n",
    "#detecto nulls\n",
    "if display_info:\n",
    "    features_df.info()\n",
    "    print('--Nulls--')\n",
    "    print(features_df.isna().sum())\n",
    "    print(features_df.describe().T)\n",
    "#sacar nulls\n",
    "#ESTA MAL SACAR LOS NULLOS DE PAGO MINIMO?----------------------------------------\n",
    "aux = []\n",
    "id_df = pd.DataFrame(aux, columns=['CUST_ID', 'PHONE', 'CONTACTS'])\n",
    "id_df[['CUST_ID', 'PHONE', 'CONTACTS']] = temp_df['CUST_ID;PHONE;CONTACTS'].str.split(';', expand=True)\n",
    "id_df.describe().T\n",
    "\n",
    "features_df.drop(['CUST_ID'], axis=1)\n",
    "data_frame = pd.concat([features_df.drop(['CUST_ID'], axis=1), id_df], axis=1)\n",
    "data_frame = data_frame.dropna(axis=0, subset=['MINIMUM_PAYMENTS'])\n",
    "data_frame = data_frame.dropna(axis=0, subset=['CREDIT_LIMIT'])\n",
    "data_frame.info()\n",
    "#correlacion\n",
    "displaycorr(data_frame)\n",
    "data_frame.hist(bins=30, figsize=(20, 14))\n",
    "\n",
    "\n"
   ]
  }
 ],
 "metadata": {
  "kernelspec": {
   "display_name": "Python 3",
   "language": "python",
   "name": "python3"
  },
  "language_info": {
   "codemirror_mode": {
    "name": "ipython",
    "version": 2
   },
   "file_extension": ".py",
   "mimetype": "text/x-python",
   "name": "python",
   "nbconvert_exporter": "python",
   "pygments_lexer": "ipython2",
   "version": "2.7.6"
  }
 },
 "nbformat": 4,
 "nbformat_minor": 0
}